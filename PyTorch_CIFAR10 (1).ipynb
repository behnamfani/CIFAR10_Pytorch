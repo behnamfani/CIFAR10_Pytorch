{
  "nbformat": 4,
  "nbformat_minor": 0,
  "metadata": {
    "colab": {
      "name": "PyTorch_CIFAR10.ipynb",
      "provenance": [],
      "collapsed_sections": []
    },
    "kernelspec": {
      "name": "python3",
      "display_name": "Python 3"
    },
    "language_info": {
      "name": "python"
    },
    "accelerator": "GPU"
  },
  "cells": [
    {
      "cell_type": "code",
      "execution_count": 25,
      "metadata": {
        "id": "xEThrEvLW1k6",
        "colab": {
          "base_uri": "https://localhost:8080/"
        },
        "outputId": "b626d7f0-c12d-4733-f4a3-e6574c42f45e"
      },
      "outputs": [
        {
          "output_type": "stream",
          "name": "stdout",
          "text": [
            "Run on GPU\n"
          ]
        }
      ],
      "source": [
        "import torch\n",
        "import torchvision\n",
        "import torch.nn as nn\n",
        "import torch.nn.functional as F\n",
        "import torch.optim as optim\n",
        "import torchvision.transforms as transforms\n",
        "import matplotlib.pyplot as plt \n",
        "import matplotlib.pyplot as plt\n",
        "from matplotlib import style\n",
        "import numpy as np\n",
        "import cv2\n",
        "from tqdm import tqdm\n",
        "\n",
        "if torch.cuda.is_available():\n",
        "  print('Run on GPU')\n",
        "  device = torch.device(\"cuda:0\")\n",
        "else:\n",
        "  print('Run on CPU')\n",
        "  device = torch.device(\"cpu\")"
      ]
    },
    {
      "cell_type": "code",
      "source": [
        "# Read data (Trainset and Validationset)\n",
        "\n",
        "train = torchvision.datasets.CIFAR10(root='./data', train=True, download=True, transform=transforms.Compose([transforms.ToTensor(), \n",
        "                                                                                                             transforms.Normalize((0.5, 0.5, 0.5), (0.5, 0.5, 0.5))]))\n",
        "test = torchvision.datasets.CIFAR10(root='./data', train=False, download=True, transform=transforms.Compose([transforms.ToTensor(), \n",
        "                                                                                                             transforms.Normalize((0.5, 0.5, 0.5), (0.5, 0.5, 0.5))]))\n",
        "\n",
        "trainset = torch.utils.data.DataLoader(train, batch_size=64, shuffle=True)\n",
        "testset = torch.utils.data.DataLoader(test, batch_size=64, shuffle=True)\n"
      ],
      "metadata": {
        "colab": {
          "base_uri": "https://localhost:8080/"
        },
        "id": "rmrXg0OaXOCf",
        "outputId": "ce14196b-4ccf-43ff-a309-c3771109666a"
      },
      "execution_count": 118,
      "outputs": [
        {
          "output_type": "stream",
          "name": "stdout",
          "text": [
            "Files already downloaded and verified\n",
            "Files already downloaded and verified\n"
          ]
        }
      ]
    },
    {
      "cell_type": "code",
      "source": [
        "classes = ('plane', 'car', 'bird', 'cat', 'deer', 'dog', 'frog', 'horse', 'ship', 'truck')\n",
        "\n",
        "# To see if our data is balance or not\n",
        "percentage_per_class = {0:0, 1:0, 2:0, 3:0, 4:0, 5:0, 6:0, 7:0, 8:0, 9:0}\n",
        "data = None\n",
        "for data in trainset:\n",
        "  xs, ys = data\n",
        "  for y in ys:\n",
        "    percentage_per_class[int(y)] += 1\n",
        "for key in percentage_per_class.keys():\n",
        "  print(classes[int(key)], '-->', (percentage_per_class[key]/sum(percentage_per_class.values()))*100) \n"
      ],
      "metadata": {
        "colab": {
          "base_uri": "https://localhost:8080/"
        },
        "id": "HpH5i2ZoeHIO",
        "outputId": "b3b5eae1-5f6d-40d1-be1a-df9f36bf8ae8"
      },
      "execution_count": 119,
      "outputs": [
        {
          "output_type": "stream",
          "name": "stdout",
          "text": [
            "plane --> 10.0\n",
            "car --> 10.0\n",
            "bird --> 10.0\n",
            "cat --> 10.0\n",
            "deer --> 10.0\n",
            "dog --> 10.0\n",
            "frog --> 10.0\n",
            "horse --> 10.0\n",
            "ship --> 10.0\n",
            "truck --> 10.0\n"
          ]
        }
      ]
    },
    {
      "cell_type": "code",
      "source": [
        "# Illustrate one of the examples\n",
        "img = torchvision.transforms.functional.rgb_to_grayscale(data[0][3], num_output_channels=1)\n",
        "style.use('default')\n",
        "plt.imshow(img.view(32, 32))\n",
        "plt.plot()\n",
        "print(classes[int(data[1][3])])"
      ],
      "metadata": {
        "colab": {
          "base_uri": "https://localhost:8080/",
          "height": 448
        },
        "id": "JpRVnmaqfo6X",
        "outputId": "cee0d312-7d4c-4b36-d86e-a025325cf370"
      },
      "execution_count": 120,
      "outputs": [
        {
          "output_type": "stream",
          "name": "stdout",
          "text": [
            "deer\n"
          ]
        },
        {
          "output_type": "display_data",
          "data": {
            "image/png": "[encoded data removed]",
            "text/plain": [
              "<Figure size 640x480 with 1 Axes>"
            ]
          },
          "metadata": {}
        }
      ]
    },
    {
      "cell_type": "code",
      "source": [
        "# Create our model (CNN)\n",
        "class Net(nn.Module):\n",
        "    def __init__(self):\n",
        "        super().__init__()\n",
        "        self.conv1 = nn.Conv2d(3, 32, kernel_size=3, padding=1)\n",
        "        self.conv2 = nn.Conv2d(32, 64, kernel_size=3, padding=1)\n",
        "        self.conv3 = nn.Conv2d(64, 128, kernel_size=3, padding=1)\n",
        "        \n",
        "        x = torch.randn(3, 32,32).view(-1,3,32,32) # Generate a sample input to compte the inputs' shapes for fc1 layer\n",
        "        self.to_linear = None\n",
        "        self.convolutional_pool(x)\n",
        "\n",
        "        self.fc1 = nn.Linear(self.to_linear, 120)\n",
        "        self.fc2 = nn.Linear(120, 84)\n",
        "        self.fc3 = nn.Linear(84, 10)\n",
        "\n",
        "    def convolutional_pool(self, x):\n",
        "      x = F.max_pool2d(F.relu(self.conv1(x)), (2, 2))\n",
        "      x = F.max_pool2d(F.relu(self.conv2(x)), (2, 2))\n",
        "      x = F.max_pool2d(F.relu(self.conv3(x)), (2, 2))\n",
        "      if self.to_linear is None: # We flatten x to see the shape of inputs of the fc1 layer\n",
        "        self.to_linear = len(torch.flatten(x))\n",
        "      return x\n",
        "\n",
        "    def forward(self, x):\n",
        "      x = self.convolutional_pool(x)\n",
        "      x = x.view(-1, self.to_linear)\n",
        "      x = F.relu(self.fc1(x))\n",
        "      x = F.relu(self.fc2(x))\n",
        "      x = F.log_softmax(self.fc3(x), dim=1)\n",
        "      return x\n",
        "\n",
        "net = Net().to(device)\n",
        "print(net)"
      ],
      "metadata": {
        "id": "m-0SmnlWuYWu",
        "colab": {
          "base_uri": "https://localhost:8080/"
        },
        "outputId": "3096c34e-65d0-4afd-fffa-a6cb353dd62c"
      },
      "execution_count": 166,
      "outputs": [
        {
          "output_type": "stream",
          "name": "stdout",
          "text": [
            "Net(\n",
            "  (conv1): Conv2d(3, 32, kernel_size=(3, 3), stride=(1, 1), padding=(1, 1))\n",
            "  (conv2): Conv2d(32, 64, kernel_size=(3, 3), stride=(1, 1), padding=(1, 1))\n",
            "  (conv3): Conv2d(64, 128, kernel_size=(3, 3), stride=(1, 1), padding=(1, 1))\n",
            "  (fc1): Linear(in_features=2048, out_features=120, bias=True)\n",
            "  (fc2): Linear(in_features=120, out_features=84, bias=True)\n",
            "  (fc3): Linear(in_features=84, out_features=10, bias=True)\n",
            ")\n"
          ]
        }
      ]
    },
    {
      "cell_type": "code",
      "source": [
        "# Feedforward phase, if train is on, backward the loss to update model's weights\n",
        "# If you run on CPU, omit to.(device)\n",
        "net = Net().to(device)\n",
        "optimizer = optim.SGD(net.parameters(), lr=0.001, momentum = 0.9)\n",
        "\n",
        "def feedforward(X, Y, train):\n",
        "  if train:\n",
        "    # zero the parameter gradients\n",
        "    net.zero_grad() \n",
        "  # Forward: Compute output\n",
        "  outputs = net(X)\n",
        "  # Calculating accuracy\n",
        "  correct = 0\n",
        "  for k in range(len(Y)):\n",
        "    if int(torch.argmax(outputs[k])) == int(Y[k]):\n",
        "      correct += 1\n",
        "  acc = correct/len(Y)\n",
        "  # Compute Loss of the model\n",
        "  loss = F.cross_entropy(outputs, Y)\n",
        "  if train:\n",
        "    # Backward: Change the weights of the model using computed loss\n",
        "    loss.backward()\n",
        "    optimizer.step()\n",
        "  return acc, loss"
      ],
      "metadata": {
        "id": "3bfnpC2MJao2"
      },
      "execution_count": 163,
      "outputs": []
    },
    {
      "cell_type": "code",
      "source": [
        "# Train the model and see the performances on Trainset\n",
        "def train():\n",
        "  iter =  15\n",
        "  # Saving accuracies and errors for visualization\n",
        "  error, accuracy = [], []\n",
        "  for epoch in range(iter):\n",
        "    print(f\"Epoch {epoch+1}:\")\n",
        "    Global_Error, Global_Accuracy = 0, 0\n",
        "    for i, data in tqdm(enumerate(trainset)):\n",
        "      # Reading data  (remember batch = 64)\n",
        "      inputs, labels = data\n",
        "      inputs = inputs.to(device)\n",
        "      labels = labels.to(device)\n",
        "\n",
        "      # Calling feedforward function\n",
        "      acc, loss = feedforward(inputs, labels, True)\n",
        "      Global_Accuracy += round(float(acc), 4)\n",
        "      Global_Error += loss\n",
        "    # Computing the means of Loss/Accuracy of each epoch\n",
        "    accuracy.append(Global_Accuracy / len(trainset))\n",
        "    error.append(Global_Error / len(trainset))\n",
        "  \n",
        "  # Visualization\n",
        "  style.use('ggplot')\n",
        "  fig, (ax1, ax2) = plt.subplots(2, sharex = True)\n",
        "  fig.set_size_inches(10, 10)\n",
        "  \n",
        "  ax1.plot(np.arange(iter), accuracy, 'g', label=\"acc\")\n",
        "  ax1.set_xlabel('epoch')\n",
        "  ax1.set_ylabel('Acc')\n",
        "  ax1.legend()\n",
        "\n",
        "  ax2.plot(np.arange(iter), error, 'r', label=\"error\")\n",
        "  ax2.set_xlabel('epoch')\n",
        "  ax2.set_ylabel('Loss')\n",
        "  ax2.legend()\n",
        "  \n",
        "  plt.show()\n",
        "train()"
      ],
      "metadata": {
        "colab": {
          "base_uri": "https://localhost:8080/",
          "height": 1000
        },
        "id": "Ke0gcp40ykQk",
        "outputId": "04049a8e-d00f-44d3-cb20-a9d2f5d4bc2f"
      },
      "execution_count": 164,
      "outputs": [
        {
          "output_type": "stream",
          "name": "stdout",
          "text": [
            "Epoch 1:\n"
          ]
        },
        {
          "output_type": "stream",
          "name": "stderr",
          "text": [
            "782it [00:25, 30.75it/s]\n"
          ]
        },
        {
          "output_type": "stream",
          "name": "stdout",
          "text": [
            "Epoch 2:\n"
          ]
        },
        {
          "output_type": "stream",
          "name": "stderr",
          "text": [
            "782it [00:25, 30.80it/s]\n"
          ]
        },
        {
          "output_type": "stream",
          "name": "stdout",
          "text": [
            "Epoch 3:\n"
          ]
        },
        {
          "output_type": "stream",
          "name": "stderr",
          "text": [
            "782it [00:25, 30.81it/s]\n"
          ]
        },
        {
          "output_type": "stream",
          "name": "stdout",
          "text": [
            "Epoch 4:\n"
          ]
        },
        {
          "output_type": "stream",
          "name": "stderr",
          "text": [
            "782it [00:25, 30.52it/s]\n"
          ]
        },
        {
          "output_type": "stream",
          "name": "stdout",
          "text": [
            "Epoch 5:\n"
          ]
        },
        {
          "output_type": "stream",
          "name": "stderr",
          "text": [
            "782it [00:25, 30.80it/s]\n"
          ]
        },
        {
          "output_type": "stream",
          "name": "stdout",
          "text": [
            "Epoch 6:\n"
          ]
        },
        {
          "output_type": "stream",
          "name": "stderr",
          "text": [
            "782it [00:25, 30.52it/s]\n"
          ]
        },
        {
          "output_type": "stream",
          "name": "stdout",
          "text": [
            "Epoch 7:\n"
          ]
        },
        {
          "output_type": "stream",
          "name": "stderr",
          "text": [
            "782it [00:25, 30.38it/s]\n"
          ]
        },
        {
          "output_type": "stream",
          "name": "stdout",
          "text": [
            "Epoch 8:\n"
          ]
        },
        {
          "output_type": "stream",
          "name": "stderr",
          "text": [
            "782it [00:25, 30.18it/s]\n"
          ]
        },
        {
          "output_type": "stream",
          "name": "stdout",
          "text": [
            "Epoch 9:\n"
          ]
        },
        {
          "output_type": "stream",
          "name": "stderr",
          "text": [
            "782it [00:25, 30.90it/s]\n"
          ]
        },
        {
          "output_type": "stream",
          "name": "stdout",
          "text": [
            "Epoch 10:\n"
          ]
        },
        {
          "output_type": "stream",
          "name": "stderr",
          "text": [
            "782it [00:25, 30.87it/s]\n"
          ]
        },
        {
          "output_type": "stream",
          "name": "stdout",
          "text": [
            "Epoch 11:\n"
          ]
        },
        {
          "output_type": "stream",
          "name": "stderr",
          "text": [
            "782it [00:25, 30.99it/s]\n"
          ]
        },
        {
          "output_type": "stream",
          "name": "stdout",
          "text": [
            "Epoch 12:\n"
          ]
        },
        {
          "output_type": "stream",
          "name": "stderr",
          "text": [
            "782it [00:25, 30.57it/s]\n"
          ]
        },
        {
          "output_type": "stream",
          "name": "stdout",
          "text": [
            "Epoch 13:\n"
          ]
        },
        {
          "output_type": "stream",
          "name": "stderr",
          "text": [
            "782it [00:25, 30.30it/s]\n"
          ]
        },
        {
          "output_type": "stream",
          "name": "stdout",
          "text": [
            "Epoch 14:\n"
          ]
        },
        {
          "output_type": "stream",
          "name": "stderr",
          "text": [
            "782it [00:25, 30.15it/s]\n"
          ]
        },
        {
          "output_type": "stream",
          "name": "stdout",
          "text": [
            "Epoch 15:\n"
          ]
        },
        {
          "output_type": "stream",
          "name": "stderr",
          "text": [
            "782it [00:25, 30.25it/s]\n"
          ]
        },
        {
          "output_type": "display_data",
          "data": {
            "image/png": "[encoded data removed]",
            "text/plain": [
              "<Figure size 1000x1000 with 2 Axes>"
            ]
          },
          "metadata": {}
        }
      ]
    },
    {
      "cell_type": "code",
      "source": [
        "# See the performance of the model on Testset\n",
        "def test_model():\n",
        "  Test_Error, Test_Accuracy = 0, 0\n",
        "  with torch.no_grad():\n",
        "    for i in testset:\n",
        "      inputs, labels = i\n",
        "      inputs = inputs.to(device)\n",
        "      labels = labels.to(device)\n",
        "      val_acc, val_loss = feedforward(inputs, labels, False)\n",
        "      Test_Accuracy += val_acc\n",
        "      Test_Error += val_loss\n",
        "\n",
        "    print(f\"Test_Accuracy = {Test_Accuracy/len(testset)}, Test_Loss = {Test_Error/len(testset)}\")\n",
        "\n",
        "test_model()"
      ],
      "metadata": {
        "colab": {
          "base_uri": "https://localhost:8080/"
        },
        "id": "KlZ9CfUAOIz0",
        "outputId": "e3a86bcf-4136-43f1-f2c9-25d49dbceb95"
      },
      "execution_count": 165,
      "outputs": [
        {
          "output_type": "stream",
          "name": "stdout",
          "text": [
            "Test_Accuracy = 0.6563495222929936, Test_Loss = 0.9756606817245483\n"
          ]
        }
      ]
    }
  ]
}